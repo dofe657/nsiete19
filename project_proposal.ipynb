{
 "cells": [
  {
   "cell_type": "markdown",
   "metadata": {},
   "source": [
    "# Project Proposal\n",
    "## Gender swap\n",
    "### Adam Fábry, Dominik Feješ\n",
    "#### Motivation\n",
    "The motivation behind this project is that a lot of things surounding photos can be achieved with neural networks. One particular thing that can be easily achieved is a gender swap. The idea behind this project is that it might be fun to experiment with a neural network trying to change the appearence of people's faces, as well as seeing how would people look if they were the opposite gender.\n",
    "\n",
    "#### Related work\n",
    "\n",
    "#### Datasets\n",
    "The internet is filled with a lot of images and datasets consisting of male and female faces. Most datasets that distinguish the difference between male and female faces are the datasets that are used for gender classification. We are considering using the following datasets:\n",
    "\n",
    "CelebA: http://mmlab.ie.cuhk.edu.hk/projects/CelebA.html<br/>\n",
    "Men/Women Classification Dataset: https://www.kaggle.com/playlist/men-women-classification<br/>\n",
    "IMDB-WIKI: https://data.vision.ee.ethz.ch/cvl/rrothe/imdb-wiki/\n",
    "\n",
    "\n",
    "#### High-level solution proposal\n",
    "We are not really sure how we are going to solve this project, but we have a general idea. The first one is using GANs (Generative neural networks). "
   ]
  },
  {
   "cell_type": "code",
   "execution_count": null,
   "metadata": {},
   "outputs": [],
   "source": []
  }
 ],
 "metadata": {
  "kernelspec": {
   "display_name": "Python 3",
   "language": "python",
   "name": "python3"
  },
  "language_info": {
   "codemirror_mode": {
    "name": "ipython",
    "version": 3
   },
   "file_extension": ".py",
   "mimetype": "text/x-python",
   "name": "python",
   "nbconvert_exporter": "python",
   "pygments_lexer": "ipython3",
   "version": "3.6.5"
  }
 },
 "nbformat": 4,
 "nbformat_minor": 2
}
