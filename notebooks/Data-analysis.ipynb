{
 "cells": [
  {
   "cell_type": "markdown",
   "metadata": {},
   "source": [
    "# Data analysis\n",
    "### Gender Swap\n",
    "Our project focused on swaping the gender of the person in a photo. To accomplish this we need a dataset that consists of pictures of males and females. The dataset chosen for this project was celebA, which consists of more than 202k photos of celebrities, with 40 binary attributes, from which only one is important for us - gender."
   ]
  },
  {
   "cell_type": "code",
   "execution_count": 7,
   "metadata": {},
   "outputs": [
    {
     "name": "stdout",
     "output_type": "stream",
     "text": [
      "202599\n"
     ]
    }
   ],
   "source": [
    "import numpy as np\n",
    "import cv2\n",
    "import os\n",
    "face_cascade = cv2.CascadeClassifier(\"D:\\opencv\\opencv\\data\\haarcascades\\haarcascade_frontalface_default.xml\")\n",
    "entries = os.listdir('D:/Skola/4.roc/NSIETE/dataset/img_celeba/')\n",
    "print(len(entries))"
   ]
  },
  {
   "cell_type": "markdown",
   "metadata": {},
   "source": [
    "![raw_images](img/raw.png)"
   ]
  },
  {
   "cell_type": "markdown",
   "metadata": {},
   "source": [
    "These pictures are not the same, even the dimensions are different, and the location of the face on the picture is almost never the same, so in order to fix this problem, we have to implement face detection and extract all the faces, resize the images so that all of them will have the same dimensions and finally split them into male/female directories respectively."
   ]
  },
  {
   "cell_type": "code",
   "execution_count": null,
   "metadata": {},
   "outputs": [],
   "source": [
    "for e in entries:\n",
    "    img = cv2.imread('D:/Skola/4.roc/NSIETE/dataset/img_celeba/'+str(e))\n",
    "    gray = cv2.cvtColor(img, cv2.COLOR_BGR2GRAY)\n",
    "    faces = face_cascade.detectMultiScale(gray, 1.3, 5)\n",
    "    i = 0\n",
    "    for (x,y,w,h) in faces:\n",
    "        centerx = x + w / 2\n",
    "        centery = y + h / 2\n",
    "        nx = int (centerx - 150)\n",
    "        ny = int (centery - 150)\n",
    "        nr = int (150*2)\n",
    "        roi_gray = gray[y:y+h, x:x+w]\n",
    "        roi_color = img[y:y+h, x:x+w]\n",
    "        resized = cv2.resize(roi_color, (256,256))\n",
    "        cv2.imwrite('D:/Skola/4.roc/NSIETE/dataset/onlyface/'+str(e), resized)\n",
    "        break"
   ]
  },
  {
   "cell_type": "code",
   "execution_count": 8,
   "metadata": {},
   "outputs": [
    {
     "name": "stdout",
     "output_type": "stream",
     "text": [
      "169410\n"
     ]
    }
   ],
   "source": [
    "onlyfaces = os.listdir('D:/Skola/4.roc/NSIETE/dataset/onlyface/')\n",
    "print(len(onlyfaces))"
   ]
  },
  {
   "cell_type": "markdown",
   "metadata": {},
   "source": [
    "![only_faces](img/onlyfaces.png)"
   ]
  },
  {
   "cell_type": "markdown",
   "metadata": {},
   "source": [
    "We can see, that faces were not detected on every picture (because some of the photos displayed humans that were not facing the camera), and now we only have a dataset of 169 thousand pictures. So the next thing we have to do is sort out male and female faces."
   ]
  },
  {
   "cell_type": "code",
   "execution_count": null,
   "metadata": {},
   "outputs": [],
   "source": [
    "from shutil import copyfile\n",
    "\n",
    "entries = os.listdir('D:/Skola/4.roc/NSIETE/dataset/onlyface/')\n",
    "f = open('celeba-atr.txt','r')\n",
    "lines = f.readlines()\n",
    "i = 0\n",
    "for e in entries:\n",
    "    line = lines[i].split()\n",
    "    while (line[0] != e):\n",
    "        i += 1\n",
    "        line = lines[i].split()\n",
    "    if (line[21] == '1'):\n",
    "        copyfile('D:/Skola/4.roc/NSIETE/dataset/onlyface/'+e,'D:/Skola/4.roc/NSIETE/dataset/male/'+e)\n",
    "    else:\n",
    "        copyfile('D:/Skola/4.roc/NSIETE/dataset/onlyface/'+e,'D:/Skola/4.roc/NSIETE/dataset/female/'+e)"
   ]
  },
  {
   "cell_type": "code",
   "execution_count": 10,
   "metadata": {},
   "outputs": [
    {
     "name": "stdout",
     "output_type": "stream",
     "text": [
      "Males: 68560 \n",
      "Females: 100850\n"
     ]
    }
   ],
   "source": [
    "males = os.listdir('D:/Skola/4.roc/NSIETE/dataset/male/')\n",
    "females = os.listdir('D:/Skola/4.roc/NSIETE/dataset/female/')\n",
    "print('Males:',len(males),'\\nFemales:',len(females))"
   ]
  },
  {
   "cell_type": "markdown",
   "metadata": {},
   "source": [
    "From this we can see, that we have more pictures of females than males, but it is not a problem for our project. Also the number of pictures seems sufficient."
   ]
  }
 ],
 "metadata": {
  "kernelspec": {
   "display_name": "Python 3",
   "language": "python",
   "name": "python3"
  },
  "language_info": {
   "codemirror_mode": {
    "name": "ipython",
    "version": 3
   },
   "file_extension": ".py",
   "mimetype": "text/x-python",
   "name": "python",
   "nbconvert_exporter": "python",
   "pygments_lexer": "ipython3",
   "version": "3.6.5"
  }
 },
 "nbformat": 4,
 "nbformat_minor": 2
}
