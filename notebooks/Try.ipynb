{
 "cells": [
  {
   "cell_type": "code",
   "execution_count": 21,
   "metadata": {},
   "outputs": [],
   "source": [
    "import numpy as np\n",
    "import cv2\n",
    "import os\n",
    "#face_cascade = cv2.CascadeClassifier(\"C:\\opencv\\opencv\\data\\haarcascades\\haarcascade_frontalface_default.xml\")\n",
    "#eye_cascade = cv2.CascadeClassifier(\"C:\\opencv\\opencv\\data\\haarcascades\\haarcascade_eye.xml\")\n",
    "\n",
    "face_cascade = cv2.CascadeClassifier(\"C:/Users/fabry\\opencv\\opencv\\data\\haarcascades\\haarcascade_frontalface_default.xml\")"
   ]
  },
  {
   "cell_type": "code",
   "execution_count": 28,
   "metadata": {},
   "outputs": [],
   "source": [
    "img = cv2.imread(\"image.jpg\")\n",
    "gray = cv2.cvtColor(img, cv2.COLOR_BGR2GRAY)\n",
    "faces = face_cascade.detectMultiScale(gray, 1.3, 5)\n",
    "for (x,y,w,h) in faces:\n",
    "    img = cv2.rectangle(img,(x-20,y-20),(x+w+20,y+20+h),(255,0,0),2)\n",
    "    roi_gray = gray[y:y+h, x:x+w]\n",
    "    roi_color = img[y:y+h, x:x+w]\n",
    "cv2.imwrite('faces_detected.jpg', img)\n",
    "cv2.waitKey(0)\n",
    "cv2.destroyAllWindows()"
   ]
  },
  {
   "cell_type": "code",
   "execution_count": 24,
   "metadata": {},
   "outputs": [],
   "source": [
    "for (x,y,w,h) in faces:\n",
    "    #r = max(w,h) / 2\n",
    "    centerx = x + w / 2\n",
    "    centery = y + h / 2\n",
    "    nx = int (centerx - 150)\n",
    "    ny = int (centery - 150)\n",
    "    nr = int (150*2)\n",
    "    \n",
    "    faceimg = img[ny:ny+nr,nx:nx+nr]\n",
    "    lastimg = cv2.resize(faceimg, (256,256))\n",
    "    #cv2.imwrite(\"%d%d%d%d%d%d.jpg\" %i %j %k %l %m,lastimg)\n",
    "    "
   ]
  },
  {
   "cell_type": "code",
   "execution_count": 38,
   "metadata": {},
   "outputs": [],
   "source": [
    "entries = os.listdir('datatry/')\n",
    "for e in entries:\n",
    "    img = cv2.imread('datatry/'+str(e))\n",
    "    gray = cv2.cvtColor(img, cv2.COLOR_BGR2GRAY)\n",
    "    faces = face_cascade.detectMultiScale(gray, 1.3, 5)\n",
    "    i = 0\n",
    "    for (x,y,w,h) in faces:\n",
    "        centerx = x + w / 2\n",
    "        centery = y + h / 2\n",
    "        nx = int (centerx - 150)\n",
    "        ny = int (centery - 150)\n",
    "        nr = int (150*2)\n",
    "        if (i == 0):\n",
    "            faceimg = img[ny:ny+nr,nx:nx+nr]\n",
    "            lastimg = faceimg\n",
    "            cv2.imwrite('tryout/'+str(e),cv2.imread('datatry/'+str(e)))\n",
    "            i += 1\n",
    "        else:\n",
    "            faceimg = img[ny:ny+nr,nx:nx+nr]\n",
    "            if (faceimg is lastimg):\n",
    "                cv2.imwrite('tryout/'+str(e),cv2.imread('datatry/'+str(e)))\n",
    "                lastimg = faceimg\n",
    "                \n",
    "        img = cv2.rectangle(img,(x-20,y-20),(x+w+20,y+20+h),(255,0,0),2)\n",
    "        roi_gray = gray[y:y+h, x:x+w]\n",
    "        roi_color = img[y:y+h, x:x+w]\n",
    "        resized = cv2.resize(roi_color, (256,256))\n",
    "        cv2.imwrite('onlyface/'+str(e), resized)\n",
    "        #cv2.imwrite('onlyface/'+str(e), img)"
   ]
  }
 ],
 "metadata": {
  "kernelspec": {
   "display_name": "Python 3",
   "language": "python",
   "name": "python3"
  },
  "language_info": {
   "codemirror_mode": {
    "name": "ipython",
    "version": 3
   },
   "file_extension": ".py",
   "mimetype": "text/x-python",
   "name": "python",
   "nbconvert_exporter": "python",
   "pygments_lexer": "ipython3",
   "version": "3.6.5"
  }
 },
 "nbformat": 4,
 "nbformat_minor": 2
}
